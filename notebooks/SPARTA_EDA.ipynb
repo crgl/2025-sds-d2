{
 "cells": [
  {
   "cell_type": "markdown",
   "id": "31ee0dd6",
   "metadata": {},
   "source": [
    "# SPARTA\n",
    "\n",
    "We have SARS-CoV-2 spike-binding measurements available on 10,000 samples from 500 participants.\n",
    "We want to:\n",
    "- Look at what we have\n",
    "- Pick the top 30 or so and the bottom 30 or so participants, by \"antibody response strength\"\n",
    "- Clean up and deidentify metadata for those participants\n",
    "- Send out for additional testing\n",
    "\n",
    "In addition to those measurements, we know that participants have different demographics, SARS-CoV-2 infection and vaccination timing, vaccine types, and sampling frequency (we tried to get them monthly, but sometimes that's just how it goes)"
   ]
  },
  {
   "cell_type": "markdown",
   "id": "16d7bf2e",
   "metadata": {},
   "source": [
    "## Imports"
   ]
  },
  {
   "cell_type": "code",
   "execution_count": 3,
   "id": "c753c6b0",
   "metadata": {},
   "outputs": [
    {
     "name": "stdout",
     "output_type": "stream",
     "text": [
      "Collecting statsmodels\n",
      "  Downloading statsmodels-0.14.5-cp312-cp312-manylinux2014_x86_64.manylinux_2_17_x86_64.manylinux_2_28_x86_64.whl.metadata (9.5 kB)\n",
      "Requirement already satisfied: numpy<3,>=1.22.3 in /home/codespace/.local/lib/python3.12/site-packages (from statsmodels) (2.2.5)\n",
      "Requirement already satisfied: scipy!=1.9.2,>=1.8 in /home/codespace/.local/lib/python3.12/site-packages (from statsmodels) (1.15.2)\n",
      "Requirement already satisfied: pandas!=2.1.0,>=1.4 in /home/codespace/.local/lib/python3.12/site-packages (from statsmodels) (2.2.3)\n",
      "Collecting patsy>=0.5.6 (from statsmodels)\n",
      "  Downloading patsy-1.0.1-py2.py3-none-any.whl.metadata (3.3 kB)\n",
      "Requirement already satisfied: packaging>=21.3 in /home/codespace/.local/lib/python3.12/site-packages (from statsmodels) (25.0)\n",
      "Requirement already satisfied: python-dateutil>=2.8.2 in /home/codespace/.local/lib/python3.12/site-packages (from pandas!=2.1.0,>=1.4->statsmodels) (2.9.0.post0)\n",
      "Requirement already satisfied: pytz>=2020.1 in /home/codespace/.local/lib/python3.12/site-packages (from pandas!=2.1.0,>=1.4->statsmodels) (2025.2)\n",
      "Requirement already satisfied: tzdata>=2022.7 in /home/codespace/.local/lib/python3.12/site-packages (from pandas!=2.1.0,>=1.4->statsmodels) (2025.2)\n",
      "Requirement already satisfied: six>=1.5 in /home/codespace/.local/lib/python3.12/site-packages (from python-dateutil>=2.8.2->pandas!=2.1.0,>=1.4->statsmodels) (1.17.0)\n",
      "Downloading statsmodels-0.14.5-cp312-cp312-manylinux2014_x86_64.manylinux_2_17_x86_64.manylinux_2_28_x86_64.whl (10.4 MB)\n",
      "\u001b[2K   \u001b[90m━━━━━━━━━━━━━━━━━━━━━━━━━━━━━━━━━━━━━━━━\u001b[0m \u001b[32m10.4/10.4 MB\u001b[0m \u001b[31m57.3 MB/s\u001b[0m eta \u001b[36m0:00:00\u001b[0m\n",
      "\u001b[?25hDownloading patsy-1.0.1-py2.py3-none-any.whl (232 kB)\n",
      "Installing collected packages: patsy, statsmodels\n",
      "\u001b[2K   \u001b[90m━━━━━━━━━━━━━━━━━━━━━━━━━━━━━━━━━━━━━━━━\u001b[0m \u001b[32m2/2\u001b[0m [statsmodels]\u001b[0m [statsmodels]\n",
      "\u001b[1A\u001b[2KSuccessfully installed patsy-1.0.1 statsmodels-0.14.5\n"
     ]
    }
   ],
   "source": [
    "import pandas as pd # Excel+, tables and more\n",
    "import numpy as np # Maths\n",
    "import matplotlib.pyplot as plt # Setting up figures, axis labels, etc\n",
    "import seaborn as sns # Scatterplots and stripplots and histograms, oh my\n",
    "from scipy import stats # T tests, mann whitney u, ordinary least squares linear regression\n",
    "import sys # for difficulties installing packages\n",
    "!{sys.executable} -m pip install statsmodels\n",
    "import statsmodels.api as sm # robust lineear regression\n",
    "import statsmodels.formula.api as smf # mixed effect models\n",
    "import sklearn # multilayer perceptrons, support vector machines, random forests\n"
   ]
  },
  {
   "cell_type": "markdown",
   "id": "a66f3b38",
   "metadata": {},
   "source": [
    "## Python Reference"
   ]
  },
  {
   "cell_type": "code",
   "execution_count": null,
   "id": "5665280a",
   "metadata": {},
   "outputs": [],
   "source": []
  },
  {
   "cell_type": "code",
   "execution_count": null,
   "id": "de40abb7",
   "metadata": {},
   "outputs": [],
   "source": []
  },
  {
   "cell_type": "markdown",
   "id": "bae070bb",
   "metadata": {},
   "source": [
    "## Reading in the data and taking a look"
   ]
  },
  {
   "cell_type": "code",
   "execution_count": null,
   "id": "473c5e0e",
   "metadata": {},
   "outputs": [],
   "source": []
  },
  {
   "cell_type": "markdown",
   "id": "28f834a9",
   "metadata": {},
   "source": [
    "## Picking overperformers and underperformers"
   ]
  },
  {
   "cell_type": "code",
   "execution_count": null,
   "id": "a2b5900c",
   "metadata": {},
   "outputs": [],
   "source": []
  },
  {
   "cell_type": "markdown",
   "id": "070fce36",
   "metadata": {},
   "source": [
    "## Exporting deidentified metadata"
   ]
  },
  {
   "cell_type": "code",
   "execution_count": null,
   "id": "bd4dc0b7",
   "metadata": {},
   "outputs": [],
   "source": []
  }
 ],
 "metadata": {
  "kernelspec": {
   "display_name": "Python 3",
   "language": "python",
   "name": "python3"
  },
  "language_info": {
   "codemirror_mode": {
    "name": "ipython",
    "version": 3
   },
   "file_extension": ".py",
   "mimetype": "text/x-python",
   "name": "python",
   "nbconvert_exporter": "python",
   "pygments_lexer": "ipython3",
   "version": "3.12.1"
  }
 },
 "nbformat": 4,
 "nbformat_minor": 5
}
