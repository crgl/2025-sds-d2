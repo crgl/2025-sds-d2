{
 "cells": [
  {
   "cell_type": "markdown",
   "id": "31ee0dd6",
   "metadata": {},
   "source": [
    "# SPARTA\n",
    "\n",
    "We have SARS-CoV-2 spike-binding measurements available on 10,000 samples from 500 participants.\n",
    "We want to:\n",
    "- Look at what we have\n",
    "- Pick the top 30 or so and the bottom 30 or so participants, by \"antibody response strength\"\n",
    "- Clean up and deidentify metadata for those participants\n",
    "- Send out for additional testing\n",
    "\n",
    "In addition to those measurements, we know that participants have different demographics, SARS-CoV-2 infection and vaccination timing, vaccine types, and sampling frequency (we tried to get them monthly, but sometimes that's just how it goes)"
   ]
  },
  {
   "cell_type": "markdown",
   "id": "16d7bf2e",
   "metadata": {},
   "source": [
    "## Imports"
   ]
  },
  {
   "cell_type": "code",
   "execution_count": null,
   "id": "c753c6b0",
   "metadata": {},
   "outputs": [],
   "source": [
    "import pandas as pd # Excel+, tables and more\n",
    "import numpy as np # Maths\n",
    "import matplotlib.pyplot as plt # Setting up figures, axis labels, etc\n",
    "import seaborn as sns # Scatterplots and stripplots and histograms, oh my\n",
    "from scipy import stats # T tests, mann whitney u, ordinary least squares linear regression\n",
    "import sys # for difficulties installing packages\n",
    "!{sys.executable} -m pip install statsmodels\n",
    "import statsmodels.api as sm # robust lineear regression\n",
    "import statsmodels.formula.api as smf # mixed effect models\n",
    "import sklearn # multilayer perceptrons, support vector machines, random forests\n"
   ]
  },
  {
   "cell_type": "markdown",
   "id": "a66f3b38",
   "metadata": {},
   "source": [
    "## Python Reference"
   ]
  },
  {
   "cell_type": "code",
   "execution_count": null,
   "id": "5665280a",
   "metadata": {},
   "outputs": [],
   "source": []
  },
  {
   "cell_type": "code",
   "execution_count": null,
   "id": "b98a5702",
   "metadata": {},
   "outputs": [],
   "source": [
    "penguin_data = sns.load_dataset('penguins')\n",
    "penguin_data.head()"
   ]
  },
  {
   "cell_type": "code",
   "execution_count": null,
   "id": "de40abb7",
   "metadata": {},
   "outputs": [],
   "source": []
  },
  {
   "cell_type": "markdown",
   "id": "bae070bb",
   "metadata": {},
   "source": [
    "## Reading in the data and taking a look"
   ]
  },
  {
   "cell_type": "code",
   "execution_count": null,
   "id": "473c5e0e",
   "metadata": {},
   "outputs": [],
   "source": []
  },
  {
   "cell_type": "markdown",
   "id": "28f834a9",
   "metadata": {},
   "source": [
    "## Picking overperformers and underperformers"
   ]
  },
  {
   "cell_type": "code",
   "execution_count": null,
   "id": "a2b5900c",
   "metadata": {},
   "outputs": [],
   "source": []
  },
  {
   "cell_type": "markdown",
   "id": "070fce36",
   "metadata": {},
   "source": [
    "## Exporting deidentified metadata"
   ]
  },
  {
   "cell_type": "code",
   "execution_count": null,
   "id": "bd4dc0b7",
   "metadata": {},
   "outputs": [],
   "source": []
  }
 ],
 "metadata": {
  "kernelspec": {
   "display_name": "base",
   "language": "python",
   "name": "python3"
  },
  "language_info": {
   "codemirror_mode": {
    "name": "ipython",
    "version": 3
   },
   "file_extension": ".py",
   "mimetype": "text/x-python",
   "name": "python",
   "nbconvert_exporter": "python",
   "pygments_lexer": "ipython3",
   "version": "3.12.3"
  }
 },
 "nbformat": 4,
 "nbformat_minor": 5
}
